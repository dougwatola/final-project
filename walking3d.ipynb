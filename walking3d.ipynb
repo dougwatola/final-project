{
 "cells": [
  {
   "cell_type": "code",
   "execution_count": null,
   "metadata": {},
   "outputs": [],
   "source": [
    "#import requirements\n",
    "import pandas as pd\n",
    "\n",
    "from mpl_toolkits.mplot3d import Axes3D\n",
    "import matplotlib.pyplot as plt"
   ]
  },
  {
   "cell_type": "code",
   "execution_count": null,
   "metadata": {},
   "outputs": [],
   "source": [
    "#import csv file into dataframe\n",
    "walking_df = pd.read_csv(\"walking1.csv\")\n",
    "\n",
    "#list(walking_df.columns)"
   ]
  },
  {
   "cell_type": "code",
   "execution_count": null,
   "metadata": {},
   "outputs": [],
   "source": [
    "X = walking_df['ACCELEROMETER X (m/s²)']\n",
    "#list(X)\n",
    "Y = walking_df['ACCELEROMETER Y (m/s²)']\n",
    "Z = walking_df['ACCELEROMETER Z (m/s²)']\n",
    "\n",
    "grav_x = walking_df['GRAVITY X (m/s²)']\n",
    "grav_y = walking_df['GRAVITY Y (m/s²)']\n",
    "grav_z = walking_df['GRAVITY Z (m/s²)']\n",
    "\n",
    "lin_x = walking_df['LINEAR ACCELERATION X (m/s²)']\n",
    "lin_y = walking_df['LINEAR ACCELERATION Y (m/s²)']\n",
    "lin_z = walking_df['LINEAR ACCELERATION Z (m/s²)']"
   ]
  },
  {
   "cell_type": "code",
   "execution_count": null,
   "metadata": {},
   "outputs": [],
   "source": [
    "fig = plt.figure(figsize=(14,11))\n",
    "ax = fig.add_subplot(111, projection='3d')\n",
    "\n",
    "#X = [1,2,3,4,5,6]\n",
    "#Y = [5,6,2,3,11,12]\n",
    "#Z = [2,3,4,5,6,7]\n",
    "\n",
    "ax.scatter (X, Y, Z, c='r', marker = 'o', label = \"Accelerometer\")\n",
    "ax.scatter (grav_x, grav_y, grav_z, c='b', marker = 'o', label = \"Gravity\")\n",
    "ax.scatter (lin_x, lin_y, lin_z, c='g', marker = 'o', label = \"Linear Acceleration\")\n",
    "\n",
    "ax.set_xlabel('x axis')\n",
    "ax.set_ylabel('y axis')\n",
    "ax.set_zlabel('z axis')\n",
    "\n",
    "ax.legend()\n",
    "plt.show()"
   ]
  },
  {
   "cell_type": "code",
   "execution_count": null,
   "metadata": {},
   "outputs": [],
   "source": []
  }
 ],
 "metadata": {
  "kernelspec": {
   "display_name": "Python 3",
   "language": "python",
   "name": "python3"
  },
  "language_info": {
   "codemirror_mode": {
    "name": "ipython",
    "version": 3
   },
   "file_extension": ".py",
   "mimetype": "text/x-python",
   "name": "python",
   "nbconvert_exporter": "python",
   "pygments_lexer": "ipython3",
   "version": "3.7.3"
  }
 },
 "nbformat": 4,
 "nbformat_minor": 4
}
